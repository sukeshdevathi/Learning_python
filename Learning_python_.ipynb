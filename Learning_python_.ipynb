{
  "nbformat": 4,
  "nbformat_minor": 0,
  "metadata": {
    "colab": {
      "provenance": [],
      "collapsed_sections": []
    },
    "kernelspec": {
      "name": "python3",
      "display_name": "Python 3"
    },
    "language_info": {
      "name": "python"
    }
  },
  "cells": [
    {
      "cell_type": "code",
      "execution_count": null,
      "metadata": {
        "id": "rKh3rGnzkz1f"
      },
      "outputs": [],
      "source": [
        "import time\n",
        "import random\n",
        "\n",
        "name = input(\"Hello, what is your name? \")\n",
        "\n",
        "time.sleep(2)\n",
        "print(\"Hello \" + name)\n",
        "\n",
        "feeling = input(\"How are you today? \")\n",
        "\n",
        "time.sleep(2)\n",
        "if \"good\" in feeling:\n",
        "    print(\"I'm feeling good too!\")\n",
        "else:\n",
        "    print(\"I'm sorry to hear that!\")\n",
        "\n",
        "time.sleep(2)\n",
        "favcolour = input(\"What is your favourite colour? \")\n",
        "\n",
        "colours = [\"Red\",\"Green\",\"Blue\"]\n",
        "\n",
        "time.sleep(2)\n",
        "print(\"My favourite colour is \" + random.choice(colours))\n",
        "\n",
        "time.sleep(2)\n",
        "food = input('what is your favourite food ?')\n",
        "time.sleep(2)\n",
        "print(' Hoo me tooo...')\n"
      ]
    }
  ]
}